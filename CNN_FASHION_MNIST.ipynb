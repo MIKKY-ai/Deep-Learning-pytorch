{
 "cells": [
  {
   "cell_type": "code",
   "execution_count": 22,
   "id": "ab9eb868-d80c-4d7d-afde-ec59c4c02c9f",
   "metadata": {},
   "outputs": [],
   "source": [
    "import torch\n",
    "import torch.nn as nn\n",
    "import torchvision\n",
    "import torchvision.transforms as transforms\n",
    "import numpy as np\n",
    "import matplotlib.pyplot as plt\n",
    "import datetime\n",
    "from datetime import datetime"
   ]
  },
  {
   "cell_type": "code",
   "execution_count": 23,
   "id": "63c63fd1-4adb-4999-bb2b-bb3f7751c2db",
   "metadata": {},
   "outputs": [],
   "source": [
    "train_dataset = torchvision.datasets.FashionMNIST(\n",
    "    root = '.',\n",
    "    train  = True,\n",
    "    transform = transforms.ToTensor(),\n",
    "    download = True\n",
    ")"
   ]
  },
  {
   "cell_type": "code",
   "execution_count": 24,
   "id": "319991c5-4b1a-459e-b878-f4b227b82466",
   "metadata": {},
   "outputs": [
    {
     "data": {
      "text/plain": [
       "torch.Size([60000, 28, 28])"
      ]
     },
     "execution_count": 24,
     "metadata": {},
     "output_type": "execute_result"
    }
   ],
   "source": [
    "train_dataset.data.shape"
   ]
  },
  {
   "cell_type": "code",
   "execution_count": 25,
   "id": "f65bf4e4-561d-42cf-a0bc-7aadb86b0ea3",
   "metadata": {},
   "outputs": [],
   "source": [
    "test_dataset = torchvision.datasets.FashionMNIST(\n",
    "    root='.',\n",
    "    train = False,\n",
    "    transform = transforms.ToTensor(),\n",
    "    download = True\n",
    ")"
   ]
  },
  {
   "cell_type": "code",
   "execution_count": 26,
   "id": "4237e841-44b4-466c-8e80-cb6573012018",
   "metadata": {},
   "outputs": [
    {
     "data": {
      "text/plain": [
       "torch.Size([10000, 28, 28])"
      ]
     },
     "execution_count": 26,
     "metadata": {},
     "output_type": "execute_result"
    }
   ],
   "source": [
    "test_dataset.data.shape"
   ]
  },
  {
   "cell_type": "code",
   "execution_count": 27,
   "id": "fb4538e5-8966-4cb3-a097-740673ac2d5e",
   "metadata": {},
   "outputs": [
    {
     "data": {
      "text/plain": [
       "10"
      ]
     },
     "execution_count": 27,
     "metadata": {},
     "output_type": "execute_result"
    }
   ],
   "source": [
    "K = len(set(train_dataset.targets.numpy()))\n",
    "K"
   ]
  },
  {
   "cell_type": "code",
   "execution_count": 28,
   "id": "aa633ea9-d791-4635-9776-e529ec25428d",
   "metadata": {},
   "outputs": [],
   "source": [
    "#define the model\n",
    "class CNN(nn.Module):\n",
    "    def __init__(self, K):\n",
    "        super(CNN,self).__init__()\n",
    "        self.conv_layers = nn.Sequential(\n",
    "            nn.Conv2d(in_channels = 1, out_channels = 32, kernel_size=3, stride=2),\n",
    "            nn.ReLU(),\n",
    "            nn.Conv2d(in_channels = 32, out_channels = 64, kernel_size = 3, stride=2),\n",
    "            nn.ReLU(),\n",
    "            nn.Conv2d(in_channels=64, out_channels = 128, kernel_size = 3, stride =2),\n",
    "            nn.ReLU()\n",
    "        )\n",
    "        self.dense_layers = nn.Sequential(\n",
    "            nn.Dropout(p=0.2),\n",
    "            nn.Linear(128*2*2, 512),\n",
    "            nn.ReLU(),\n",
    "            nn.Dropout(p=0.2),\n",
    "            nn.Linear(512, K)\n",
    "        )\n",
    "    def forward(self, X):\n",
    "        out = self.conv_layers(X)\n",
    "        out = out.view(out.size(0), -1)\n",
    "        out = self.dense_layers(out)\n",
    "        return out"
   ]
  },
  {
   "cell_type": "code",
   "execution_count": 29,
   "id": "809a445d-100a-4882-812a-f17b56db4ff3",
   "metadata": {},
   "outputs": [],
   "source": [
    "#Instantiating the model\n",
    "model = CNN(K)"
   ]
  },
  {
   "cell_type": "code",
   "execution_count": 30,
   "id": "d3ce142a-d910-40be-a55a-c3538e225335",
   "metadata": {},
   "outputs": [
    {
     "data": {
      "text/plain": [
       "CNN(\n",
       "  (conv_layers): Sequential(\n",
       "    (0): Conv2d(1, 32, kernel_size=(3, 3), stride=(2, 2))\n",
       "    (1): ReLU()\n",
       "    (2): Conv2d(32, 64, kernel_size=(3, 3), stride=(2, 2))\n",
       "    (3): ReLU()\n",
       "    (4): Conv2d(64, 128, kernel_size=(3, 3), stride=(2, 2))\n",
       "    (5): ReLU()\n",
       "  )\n",
       "  (dense_layers): Sequential(\n",
       "    (0): Dropout(p=0.2, inplace=False)\n",
       "    (1): Linear(in_features=512, out_features=512, bias=True)\n",
       "    (2): ReLU()\n",
       "    (3): Dropout(p=0.2, inplace=False)\n",
       "    (4): Linear(in_features=512, out_features=10, bias=True)\n",
       "  )\n",
       ")"
      ]
     },
     "execution_count": 30,
     "metadata": {},
     "output_type": "execute_result"
    }
   ],
   "source": [
    "model"
   ]
  },
  {
   "cell_type": "code",
   "execution_count": 31,
   "id": "380eb813-1665-4706-b543-448a2f06243d",
   "metadata": {},
   "outputs": [],
   "source": [
    "#the same model using the newly introduced Flatten\n",
    "#model = nn.Sequential(nn.Conv2d(in_channels=1, out_channels=32, kernel_size = 3,stride=2),\n",
    "#nn.ReLU(),\n",
    "#                      nn.Conv2d(in_channels=32, out_channels=64, kernel_size=3, stride=2),\n",
    "#                      nn.ReLU(),\n",
    "#                      nn.Conv2d(in_channels=64, out_channels=128, kernel_size=3, stride=2),\n",
    "#                      nn.ReLU(),\n",
    "#                      nn.Conv2d(in_channels=128, out_channels=256, kernel_size=3, stride=2),\n",
    "#                      nn.ReLU(),\n",
    "#                      nn.Flatten(),\n",
    "#                      nn.Dropout(p=0.2),\n",
    "#                      nn.Linear(128*2*2, 512),\n",
    "#                      nn.Dropout(p=0.2),\n",
    "#                      nn.Linear(512, K)\n",
    "#                     )\n",
    "                      \n",
    "                      "
   ]
  },
  {
   "cell_type": "code",
   "execution_count": 32,
   "id": "0e8781f4-2431-4337-abbe-0e1e891bf043",
   "metadata": {},
   "outputs": [
    {
     "name": "stdout",
     "output_type": "stream",
     "text": [
      "cpu\n"
     ]
    }
   ],
   "source": [
    "device = torch.device(\"cuda:0\" if torch.cuda.is_available() else \"cpu\")\n",
    "model.to(device)\n",
    "print(device)"
   ]
  },
  {
   "cell_type": "code",
   "execution_count": 33,
   "id": "8ff86822-54d4-477f-9b8e-f1ec46ed4d11",
   "metadata": {},
   "outputs": [],
   "source": [
    "#Loss and optimizer\n",
    "criterion = nn.CrossEntropyLoss()\n",
    "optimizer = torch.optim.Adam(model.parameters())"
   ]
  },
  {
   "cell_type": "code",
   "execution_count": 34,
   "id": "64a8849c-3637-4e05-b200-2719cccaeed8",
   "metadata": {},
   "outputs": [],
   "source": [
    "#Data loader\n",
    "#Useful because it automatically  generates batches in the training loop\n",
    "#and takes care of shuffling\n",
    "batch_size = 128\n",
    "train_loader = torch.utils.data.DataLoader(dataset = train_dataset, batch_size=batch_size, shuffle = True)\n",
    "test_loader = torch.utils.data.DataLoader(dataset = test_dataset, batch_size=batch_size, shuffle = False)"
   ]
  },
  {
   "cell_type": "code",
   "execution_count": 35,
   "id": "bdfa8e7f-3219-4027-88cc-f7ca9b87e2ec",
   "metadata": {},
   "outputs": [
    {
     "data": {
      "text/plain": [
       "(<torch.utils.data.dataloader.DataLoader at 0x7f8498d0fd90>,\n",
       " <torch.utils.data.dataloader.DataLoader at 0x7f8498d0f9d0>)"
      ]
     },
     "execution_count": 35,
     "metadata": {},
     "output_type": "execute_result"
    }
   ],
   "source": [
    "train_loader, test_loader"
   ]
  },
  {
   "cell_type": "code",
   "execution_count": 36,
   "id": "8bbed88c-a3c4-4dbe-ac7c-27c1aea16842",
   "metadata": {},
   "outputs": [],
   "source": [
    "#A function to encapsulate the training loop\n",
    "def batch_gd(model,criterion,optimizer,train_loader,test_loader, epochs):\n",
    "    train_losses = np.zeros(epochs)\n",
    "    test_losses = np.zeros(epochs)\n",
    "\n",
    "    for it in range(epochs):\n",
    "        model.train()\n",
    "        t0 = datetime.now()\n",
    "        train_loss = []\n",
    "        for inputs, targets in train_loader:\n",
    "            #move data to cpu\n",
    "            inputs, targets = inputs.to(device), targets.to(device)\n",
    "            #zero the parameter gradient\n",
    "            optimizer.zero_grad()\n",
    "            #Forward pass\n",
    "            outputs = model(inputs)\n",
    "            loss = criterion(outputs, targets)\n",
    "            #Backward pass\n",
    "            loss.backward()\n",
    "            optimizer.step()\n",
    "\n",
    "            train_loss.append(loss.item())\n",
    "\n",
    "        #Get train and test loss\n",
    "        train_loss = np.mean(train_loss)\n",
    "\n",
    "        model.eval()\n",
    "        test_loss = []\n",
    "        for inputs, targets in test_loader:\n",
    "            inputs, targets = inputs.to(device), targets.to(device)\n",
    "            #forward pass\n",
    "            outputs = model(inputs)\n",
    "            loss = criterion(outputs, targets)\n",
    "            test_loss.append(loss.item())\n",
    "        test_loss = np.mean(test_loss)\n",
    "\n",
    "        #Save losses\n",
    "        train_losses[it] = train_loss\n",
    "        test_losses[it] = test_loss\n",
    "\n",
    "        dt = datetime.now() - t0\n",
    "        print(f'Epoch {it+1}/{epochs}, Train Loss: {train_loss:.4f}, Test Loss: {test_loss:.4f}, Duration: {dt}')\n",
    "    return train_losses, test_losses"
   ]
  },
  {
   "cell_type": "code",
   "execution_count": 37,
   "id": "16daa4d6-9d72-4fc5-b083-6001288c21d4",
   "metadata": {},
   "outputs": [
    {
     "name": "stdout",
     "output_type": "stream",
     "text": [
      "Epoch 1/10, Train Loss: 0.6619, Test Loss: 0.4790, Duration: 0:00:28.705628\n",
      "Epoch 2/10, Train Loss: 0.4388, Test Loss: 0.4070, Duration: 0:00:29.272182\n",
      "Epoch 3/10, Train Loss: 0.3809, Test Loss: 0.3661, Duration: 0:00:23.648016\n",
      "Epoch 4/10, Train Loss: 0.3478, Test Loss: 0.3411, Duration: 0:00:20.560871\n",
      "Epoch 5/10, Train Loss: 0.3248, Test Loss: 0.3322, Duration: 0:00:26.774466\n",
      "Epoch 6/10, Train Loss: 0.3003, Test Loss: 0.3220, Duration: 0:00:30.054686\n",
      "Epoch 7/10, Train Loss: 0.2827, Test Loss: 0.3138, Duration: 0:00:29.991064\n",
      "Epoch 8/10, Train Loss: 0.2655, Test Loss: 0.3009, Duration: 0:00:36.081571\n",
      "Epoch 9/10, Train Loss: 0.2498, Test Loss: 0.2959, Duration: 0:00:29.206029\n",
      "Epoch 10/10, Train Loss: 0.2378, Test Loss: 0.2854, Duration: 0:00:29.721889\n"
     ]
    }
   ],
   "source": [
    "train_losses, test_losses = batch_gd(\n",
    "    model, criterion, optimizer, train_loader, test_loader, epochs=10\n",
    ")"
   ]
  },
  {
   "cell_type": "code",
   "execution_count": 38,
   "id": "6eb1e70a-e480-4185-93ed-c1f5918bfd77",
   "metadata": {},
   "outputs": [
    {
     "data": {
      "text/plain": [
       "<function matplotlib.pyplot.show(close=None, block=None)>"
      ]
     },
     "execution_count": 38,
     "metadata": {},
     "output_type": "execute_result"
    },
    {
     "data": {
      "image/png": "[encoded data removed]",
      "text/plain": [
       "<Figure size 640x480 with 1 Axes>"
      ]
     },
     "metadata": {},
     "output_type": "display_data"
    }
   ],
   "source": [
    "#plot the losses\n",
    "plt.plot(train_losses, label='Train Loss')\n",
    "plt.plot(test_losses, label='Test Loss')\n",
    "plt.legend()\n",
    "plt.show"
   ]
  },
  {
   "cell_type": "code",
   "execution_count": 39,
   "id": "a76059ad-41c6-4ef6-9f6f-909f4321968f",
   "metadata": {},
   "outputs": [
    {
     "name": "stdout",
     "output_type": "stream",
     "text": [
      "Train Accuracy : 0.9294, Test Accuracy : 0.8955\n"
     ]
    }
   ],
   "source": [
    "#find accuracy\n",
    "model.eval()\n",
    "n_correct = 0\n",
    "n_total = 0\n",
    "for inputs , targets in train_loader:\n",
    "    #move data to cpu\n",
    "    inputs, targets = inputs.to(device), targets.to(device)\n",
    "    #forward pass\n",
    "    outputs = model(inputs)\n",
    "    #get prediction\n",
    "    _, predictions = torch.max(outputs, 1)\n",
    "    \n",
    "    #update counts\n",
    "    n_correct += (predictions == targets).sum().item()\n",
    "    n_total += targets.shape[0]\n",
    "train_acc = n_correct / n_total\n",
    "\n",
    "n_correct = 0 \n",
    "n_total = 0\n",
    "\n",
    "for inputs, targets in test_loader:\n",
    "    #move data to cpu \n",
    "    inputs, targets = inputs.to(device), targets.to(device)\n",
    "    #forward pass\n",
    "    outputs = model(inputs)\n",
    "    #get predictions\n",
    "    _, predictions = torch.max(outputs, 1)\n",
    "    \n",
    "    #update counts\n",
    "    n_correct += (predictions == targets).sum().item()\n",
    "    n_total += targets.shape[0]\n",
    "test_acc = n_correct / n_total\n",
    "print(f'Train Accuracy : {train_acc:.4f}, Test Accuracy : {test_acc:.4f}')"
   ]
  },
  {
   "cell_type": "code",
   "execution_count": 40,
   "id": "83059d56-bf08-4add-b7af-58072cdb05fa",
   "metadata": {},
   "outputs": [],
   "source": [
    "#Confusion matrix\n",
    "from sklearn.metrics import confusion_matrix\n",
    "import itertools\n",
    "\n",
    "def plot_confusion_matrix(cm, classes, normalize = False, title='Confusion matrix',cmap = plt.cm.Blues):\n",
    "    if normalize:\n",
    "        cm = cm.astype('float') / cm.sum(axis = 1)[:, np.newaxis]\n",
    "        print('Normalize confusion matrix')\n",
    "    else:\n",
    "        print('confusion matrix, without normalization')\n",
    "    print(cm)\n",
    "\n",
    "    plt.imshow(cm, interpolation='nearest', cmap = cmap)\n",
    "    plt.title(title)\n",
    "    plt.colorbar()\n",
    "    tick_marks = np.arange(len(classes))\n",
    "    plt.xticks(tick_marks, classes, rotation=45)\n",
    "    plt.yticks(tick_marks, classes)\n",
    "\n",
    "    fmt = '.2f'if normalize else 'd'\n",
    "    thresh = cm.max() / 2\n",
    "    for i,j in itertools.product(range(cm.shape[0]), range(cm.shape[1])):\n",
    "        plt.text(j, i, format(cm[i,j], fmt),\n",
    "                 horizontalalignment='center',\n",
    "                 color = 'white' if cm[i,j] > thresh else 'black')\n",
    "    plt.tight_layout()\n",
    "    plt.ylabel('true label')\n",
    "    plt.xlabel('predicted label')\n",
    "    plt.show()"
   ]
  },
  {
   "cell_type": "code",
   "execution_count": 41,
   "id": "9f7fcdd2-e888-4d61-8ffe-e06881a0e1d5",
   "metadata": {},
   "outputs": [
    {
     "name": "stdout",
     "output_type": "stream",
     "text": [
      "confusion matrix, without normalization\n",
      "[[871   0  17  21   6   1  79   0   5   0]\n",
      " [  1 976   0  15   3   0   3   0   2   0]\n",
      " [ 17   1 811  11  83   0  76   0   1   0]\n",
      " [ 14   7  22 900  38   0  19   0   0   0]\n",
      " [  0   1  29  20 869   0  80   0   1   0]\n",
      " [  0   0   0   2   0 970   0  18   0  10]\n",
      " [127   0  64  29 101   0 667   0  12   0]\n",
      " [  0   0   0   0   0  18   0 949   0  33]\n",
      " [  2   1   4   0   5   3   3   3 979   0]\n",
      " [  1   0   0   0   0   5   0  31   0 963]]\n"
     ]
    },
    {
     "data": {
      "image/png": "[encoded data removed]",
      "text/plain": [
       "<Figure size 640x480 with 2 Axes>"
      ]
     },
     "metadata": {},
     "output_type": "display_data"
    }
   ],
   "source": [
    "#get all predictions in an array and plot confusion matrix\n",
    "\n",
    "x_test = test_dataset.data.numpy()\n",
    "y_test = test_dataset.targets.numpy()\n",
    "p_test = np.array([])\n",
    "for inputs, targets in test_loader:\n",
    "    #move data to cpu\n",
    "    inputs , targets = inputs.to(device), targets.to(device)\n",
    "    #forward pass\n",
    "    outputs = model(inputs)\n",
    "    #get prediction\n",
    "    _, predictions = torch.max(outputs, 1)\n",
    "\n",
    "    #update p_test\n",
    "    p_test = np.concatenate((p_test, predictions.cpu().numpy()))\n",
    "cm = confusion_matrix(y_test, p_test)\n",
    "plot_confusion_matrix(cm, list(range(1)))"
   ]
  },
  {
   "cell_type": "code",
   "execution_count": 42,
   "id": "6061650c-45ff-4676-9d74-8d2e84ce386f",
   "metadata": {},
   "outputs": [],
   "source": [
    "#Label mapping\n",
    "labels = '''T-shirt/top\n",
    "Trouser\n",
    "Pullover\n",
    "Dress\n",
    "Coat\n",
    "Sandal\n",
    "Shirt\n",
    "Sneaker\n",
    "Bag\n",
    "Ankle boot'''.split(\"\\n\")"
   ]
  },
  {
   "cell_type": "code",
   "execution_count": 69,
   "id": "e8668a23-223c-4c31-a473-fda79ae70126",
   "metadata": {},
   "outputs": [
    {
     "data": {
      "image/png": "[encoded data removed]",
      "text/plain": [
       "<Figure size 640x480 with 1 Axes>"
      ]
     },
     "metadata": {},
     "output_type": "display_data"
    }
   ],
   "source": [
    "#Showing some misclassified examples\n",
    "p_test = p_test.astype(np.uint8)\n",
    "misclassified_idx = np.where(p_test != y_test)[0]\n",
    "i = np.random.choice(misclassified_idx)\n",
    "plt.imshow(x_test[i].reshape(28,28), cmap= 'gray')\n",
    "plt.title(\"True label: %s Predicted: %s\" % (labels[y_test[i]], labels[p_test[i]]));"
   ]
  },
  {
   "cell_type": "code",
   "execution_count": 44,
   "id": "154fbaec-d188-46ed-8f7c-cab6cdf7f2d5",
   "metadata": {},
   "outputs": [
    {
     "data": {
      "text/plain": [
       "array([9, 2, 1, ..., 8, 1, 5], dtype=uint8)"
      ]
     },
     "execution_count": 44,
     "metadata": {},
     "output_type": "execute_result"
    }
   ],
   "source": [
    "p_test"
   ]
  },
  {
   "cell_type": "code",
   "execution_count": 45,
   "id": "1f30d356-3e15-4185-a980-059bf20bf812",
   "metadata": {},
   "outputs": [
    {
     "data": {
      "text/plain": [
       "['T-shirt/top',\n",
       " 'Trouser',\n",
       " 'Pullover',\n",
       " 'Dress',\n",
       " 'Coat',\n",
       " 'Sandal',\n",
       " 'Shirt',\n",
       " 'Sneaker',\n",
       " 'Bag',\n",
       " 'Ankle boot']"
      ]
     },
     "execution_count": 45,
     "metadata": {},
     "output_type": "execute_result"
    }
   ],
   "source": [
    "labels"
   ]
  },
  {
   "cell_type": "code",
   "execution_count": 46,
   "id": "728c282a-1256-4757-8aa6-2ab29037a28a",
   "metadata": {},
   "outputs": [
    {
     "data": {
      "text/plain": [
       "(array([[[0, 0, 0, ..., 0, 0, 0],\n",
       "         [0, 0, 0, ..., 0, 0, 0],\n",
       "         [0, 0, 0, ..., 0, 0, 0],\n",
       "         ...,\n",
       "         [0, 0, 0, ..., 0, 0, 0],\n",
       "         [0, 0, 0, ..., 0, 0, 0],\n",
       "         [0, 0, 0, ..., 0, 0, 0]],\n",
       " \n",
       "        [[0, 0, 0, ..., 0, 0, 0],\n",
       "         [0, 0, 0, ..., 0, 0, 0],\n",
       "         [0, 0, 0, ..., 0, 0, 0],\n",
       "         ...,\n",
       "         [0, 0, 0, ..., 0, 0, 0],\n",
       "         [0, 0, 0, ..., 0, 0, 0],\n",
       "         [0, 0, 0, ..., 0, 0, 0]],\n",
       " \n",
       "        [[0, 0, 0, ..., 0, 0, 0],\n",
       "         [0, 0, 0, ..., 0, 0, 0],\n",
       "         [0, 0, 0, ..., 0, 0, 0],\n",
       "         ...,\n",
       "         [0, 0, 0, ..., 0, 0, 0],\n",
       "         [0, 0, 0, ..., 0, 0, 0],\n",
       "         [0, 0, 0, ..., 0, 0, 0]],\n",
       " \n",
       "        ...,\n",
       " \n",
       "        [[0, 0, 0, ..., 0, 0, 0],\n",
       "         [0, 0, 0, ..., 0, 0, 0],\n",
       "         [0, 0, 0, ..., 0, 0, 0],\n",
       "         ...,\n",
       "         [0, 0, 0, ..., 0, 0, 0],\n",
       "         [0, 0, 0, ..., 0, 0, 0],\n",
       "         [0, 0, 0, ..., 0, 0, 0]],\n",
       " \n",
       "        [[0, 0, 0, ..., 0, 0, 0],\n",
       "         [0, 0, 0, ..., 0, 0, 0],\n",
       "         [0, 0, 0, ..., 0, 0, 0],\n",
       "         ...,\n",
       "         [0, 0, 0, ..., 0, 0, 0],\n",
       "         [0, 0, 0, ..., 0, 0, 0],\n",
       "         [0, 0, 0, ..., 0, 0, 0]],\n",
       " \n",
       "        [[0, 0, 0, ..., 0, 0, 0],\n",
       "         [0, 0, 0, ..., 0, 0, 0],\n",
       "         [0, 0, 0, ..., 0, 0, 0],\n",
       "         ...,\n",
       "         [0, 0, 0, ..., 0, 0, 0],\n",
       "         [0, 0, 0, ..., 0, 0, 0],\n",
       "         [0, 0, 0, ..., 0, 0, 0]]], dtype=uint8),\n",
       " array([9, 2, 1, ..., 8, 1, 5]))"
      ]
     },
     "execution_count": 46,
     "metadata": {},
     "output_type": "execute_result"
    }
   ],
   "source": [
    "x_test, y_test"
   ]
  },
  {
   "cell_type": "code",
   "execution_count": null,
   "id": "5489de9b-1d8e-4bf1-8746-266e4cbfe05d",
   "metadata": {},
   "outputs": [],
   "source": []
  }
 ],
 "metadata": {
  "kernelspec": {
   "display_name": "Python 3 (ipykernel)",
   "language": "python",
   "name": "python3"
  },
  "language_info": {
   "codemirror_mode": {
    "name": "ipython",
    "version": 3
   },
   "file_extension": ".py",
   "mimetype": "text/x-python",
   "name": "python",
   "nbconvert_exporter": "python",
   "pygments_lexer": "ipython3",
   "version": "3.10.9"
  }
 },
 "nbformat": 4,
 "nbformat_minor": 5
}
