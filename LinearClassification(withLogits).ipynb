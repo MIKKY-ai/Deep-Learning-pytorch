{
 "cells": [
  {
   "cell_type": "code",
   "execution_count": 27,
   "id": "ecbd153c",
   "metadata": {},
   "outputs": [],
   "source": [
    "import torch\n",
    "import torch.nn as nn\n",
    "import numpy as np\n",
    "import matplotlib.pyplot as plt"
   ]
  },
  {
   "cell_type": "code",
   "execution_count": 2,
   "id": "7f00adcd",
   "metadata": {},
   "outputs": [],
   "source": [
    "#Load the data\n",
    "from sklearn.datasets import load_breast_cancer"
   ]
  },
  {
   "cell_type": "code",
   "execution_count": 6,
   "id": "8b4634fc",
   "metadata": {},
   "outputs": [],
   "source": [
    "data = load_breast_cancer()"
   ]
  },
  {
   "cell_type": "code",
   "execution_count": 9,
   "id": "84109312",
   "metadata": {},
   "outputs": [
    {
     "data": {
      "text/plain": [
       "(['DESCR',\n",
       "  'data',\n",
       "  'data_module',\n",
       "  'feature_names',\n",
       "  'filename',\n",
       "  'frame',\n",
       "  'target',\n",
       "  'target_names'],\n",
       " dict_keys(['data', 'target', 'frame', 'target_names', 'DESCR', 'feature_names', 'filename', 'data_module']))"
      ]
     },
     "execution_count": 9,
     "metadata": {},
     "output_type": "execute_result"
    }
   ],
   "source": [
    "dir(data), data.keys()"
   ]
  },
  {
   "cell_type": "code",
   "execution_count": 8,
   "id": "c678ecec",
   "metadata": {},
   "outputs": [
    {
     "data": {
      "text/plain": [
       "sklearn.utils._bunch.Bunch"
      ]
     },
     "execution_count": 8,
     "metadata": {},
     "output_type": "execute_result"
    }
   ],
   "source": [
    "type(data)"
   ]
  },
  {
   "cell_type": "code",
   "execution_count": 10,
   "id": "5f38444c",
   "metadata": {},
   "outputs": [
    {
     "data": {
      "text/plain": [
       "(569, 30)"
      ]
     },
     "execution_count": 10,
     "metadata": {},
     "output_type": "execute_result"
    }
   ],
   "source": [
    "data.data.shape"
   ]
  },
  {
   "cell_type": "code",
   "execution_count": 11,
   "id": "53be0ea5",
   "metadata": {},
   "outputs": [
    {
     "data": {
      "text/plain": [
       "(569,)"
      ]
     },
     "execution_count": 11,
     "metadata": {},
     "output_type": "execute_result"
    }
   ],
   "source": [
    "data.target.shape"
   ]
  },
  {
   "cell_type": "code",
   "execution_count": 13,
   "id": "3acfba28",
   "metadata": {},
   "outputs": [
    {
     "data": {
      "text/plain": [
       "(2,)"
      ]
     },
     "execution_count": 13,
     "metadata": {},
     "output_type": "execute_result"
    }
   ],
   "source": [
    "data.target_names.shape"
   ]
  },
  {
   "cell_type": "code",
   "execution_count": 14,
   "id": "2b69bfd0",
   "metadata": {},
   "outputs": [
    {
     "data": {
      "text/plain": [
       "array(['malignant', 'benign'], dtype='<U9')"
      ]
     },
     "execution_count": 14,
     "metadata": {},
     "output_type": "execute_result"
    }
   ],
   "source": [
    "data.target_names"
   ]
  },
  {
   "cell_type": "code",
   "execution_count": 15,
   "id": "2171dd07",
   "metadata": {},
   "outputs": [
    {
     "data": {
      "text/plain": [
       "(30,)"
      ]
     },
     "execution_count": 15,
     "metadata": {},
     "output_type": "execute_result"
    }
   ],
   "source": [
    "data.feature_names.shape"
   ]
  },
  {
   "cell_type": "code",
   "execution_count": 16,
   "id": "a0d490e9",
   "metadata": {},
   "outputs": [
    {
     "data": {
      "text/plain": [
       "array(['mean radius', 'mean texture', 'mean perimeter', 'mean area',\n",
       "       'mean smoothness', 'mean compactness', 'mean concavity',\n",
       "       'mean concave points', 'mean symmetry', 'mean fractal dimension',\n",
       "       'radius error', 'texture error', 'perimeter error', 'area error',\n",
       "       'smoothness error', 'compactness error', 'concavity error',\n",
       "       'concave points error', 'symmetry error',\n",
       "       'fractal dimension error', 'worst radius', 'worst texture',\n",
       "       'worst perimeter', 'worst area', 'worst smoothness',\n",
       "       'worst compactness', 'worst concavity', 'worst concave points',\n",
       "       'worst symmetry', 'worst fractal dimension'], dtype='<U23')"
      ]
     },
     "execution_count": 16,
     "metadata": {},
     "output_type": "execute_result"
    }
   ],
   "source": [
    "data.feature_names"
   ]
  },
  {
   "cell_type": "code",
   "execution_count": 17,
   "id": "8a0fb491",
   "metadata": {},
   "outputs": [],
   "source": [
    "from sklearn.model_selection import train_test_split\n",
    "x_train,x_test,y_train,y_test = train_test_split(data.data,data.target,test_size=0.33)\n",
    "N,D = x_train.shape"
   ]
  },
  {
   "cell_type": "code",
   "execution_count": 19,
   "id": "3b15e9fe",
   "metadata": {},
   "outputs": [
    {
     "data": {
      "text/plain": [
       "(381, 30)"
      ]
     },
     "execution_count": 19,
     "metadata": {},
     "output_type": "execute_result"
    }
   ],
   "source": [
    "N,D"
   ]
  },
  {
   "cell_type": "code",
   "execution_count": 20,
   "id": "c50fa372",
   "metadata": {},
   "outputs": [
    {
     "data": {
      "text/plain": [
       "(381, 30)"
      ]
     },
     "execution_count": 20,
     "metadata": {},
     "output_type": "execute_result"
    }
   ],
   "source": [
    "x_train.shape"
   ]
  },
  {
   "cell_type": "code",
   "execution_count": 21,
   "id": "9063267c",
   "metadata": {},
   "outputs": [
    {
     "data": {
      "text/plain": [
       "(381,)"
      ]
     },
     "execution_count": 21,
     "metadata": {},
     "output_type": "execute_result"
    }
   ],
   "source": [
    "y_train.shape"
   ]
  },
  {
   "cell_type": "code",
   "execution_count": 22,
   "id": "f6c9d357",
   "metadata": {},
   "outputs": [
    {
     "data": {
      "text/plain": [
       "(188, 30)"
      ]
     },
     "execution_count": 22,
     "metadata": {},
     "output_type": "execute_result"
    }
   ],
   "source": [
    "x_test.shape"
   ]
  },
  {
   "cell_type": "code",
   "execution_count": 23,
   "id": "20c58976",
   "metadata": {},
   "outputs": [],
   "source": [
    "#Scaling the data\n",
    "from sklearn.preprocessing import StandardScaler\n",
    "\n",
    "scaler = StandardScaler()\n",
    "x_train = scaler.fit_transform(x_train)\n",
    "x_test = scaler.transform(x_test)"
   ]
  },
  {
   "cell_type": "code",
   "execution_count": 24,
   "id": "a2f22f79",
   "metadata": {},
   "outputs": [],
   "source": [
    "#Build the model\n",
    "model = nn.Linear(D, 1)"
   ]
  },
  {
   "cell_type": "code",
   "execution_count": 28,
   "id": "f7a3afbf",
   "metadata": {},
   "outputs": [],
   "source": [
    "#Loss and Optimizer\n",
    "criterion = nn.BCEWithLogitsLoss()\n",
    "optimizer = torch.optim.Adam(model.parameters())"
   ]
  },
  {
   "cell_type": "code",
   "execution_count": 29,
   "id": "c7e9e581",
   "metadata": {},
   "outputs": [],
   "source": [
    "#Convert data into tensors\n",
    "x_train = torch.from_numpy(x_train.astype(np.float32))\n",
    "x_test = torch.from_numpy(x_test.astype(np.float32))\n",
    "y_train = torch.from_numpy(y_train.astype(np.float32).reshape(-1,1))\n",
    "y_test = torch.from_numpy(y_test.astype(np.float32).reshape(-1,1))"
   ]
  },
  {
   "cell_type": "code",
   "execution_count": 32,
   "id": "cef46dcd",
   "metadata": {},
   "outputs": [
    {
     "name": "stdout",
     "output_type": "stream",
     "text": [
      "Epoch 50/1000, Train Loss: 0.425136, Test Loss: 0.406057\n",
      "Epoch 100/1000, Train Loss: 0.337673, Test Loss: 0.317492\n",
      "Epoch 150/1000, Train Loss: 0.283254, Test Loss: 0.264884\n",
      "Epoch 200/1000, Train Loss: 0.245863, Test Loss: 0.230142\n",
      "Epoch 250/1000, Train Loss: 0.218515, Test Loss: 0.205597\n",
      "Epoch 300/1000, Train Loss: 0.197623, Test Loss: 0.187428\n",
      "Epoch 350/1000, Train Loss: 0.181135, Test Loss: 0.173500\n",
      "Epoch 400/1000, Train Loss: 0.167787, Test Loss: 0.162528\n",
      "Epoch 450/1000, Train Loss: 0.156756, Test Loss: 0.153693\n",
      "Epoch 500/1000, Train Loss: 0.147482, Test Loss: 0.146448\n",
      "Epoch 550/1000, Train Loss: 0.139572, Test Loss: 0.140416\n",
      "Epoch 600/1000, Train Loss: 0.132740, Test Loss: 0.135329\n",
      "Epoch 650/1000, Train Loss: 0.126775, Test Loss: 0.130993\n",
      "Epoch 700/1000, Train Loss: 0.121519, Test Loss: 0.127260\n",
      "Epoch 750/1000, Train Loss: 0.116848, Test Loss: 0.124020\n",
      "Epoch 800/1000, Train Loss: 0.112666, Test Loss: 0.121187\n",
      "Epoch 850/1000, Train Loss: 0.108899, Test Loss: 0.118694\n",
      "Epoch 900/1000, Train Loss: 0.105484, Test Loss: 0.116488\n",
      "Epoch 950/1000, Train Loss: 0.102373, Test Loss: 0.114524\n",
      "Epoch 1000/1000, Train Loss: 0.099524, Test Loss: 0.112769\n"
     ]
    }
   ],
   "source": [
    "#Train the model\n",
    "n_epochs = 1000\n",
    "#create var to store\n",
    "train_losses = np.zeros(n_epochs)\n",
    "test_losses = np.zeros(n_epochs)\n",
    "train_acc = np.zeros(n_epochs)\n",
    "test_acc = np.zeros(n_epochs)\n",
    "\n",
    "for it in range(n_epochs):\n",
    "    #zero the parameter gradients\n",
    "    optimizer.zero_grad()\n",
    "    \n",
    "    #forward pass\n",
    "    outputs = model(x_train)\n",
    "    loss = criterion(outputs, y_train)\n",
    "    \n",
    "    #Backward and optimize\n",
    "    loss.backward()\n",
    "    optimizer.step()\n",
    "    \n",
    "    #Get test loss\n",
    "    outputs_test = model(x_test)\n",
    "    loss_test = criterion(outputs_test,y_test)\n",
    "    \n",
    "    #Save losses\n",
    "    train_losses[it] = loss.item()\n",
    "    test_losses[it] = loss_test.item()\n",
    "    \n",
    "    if (it+1) % 50 == 0:\n",
    "        print(f'Epoch {it+1}/{n_epochs}, Train Loss: {loss.item():4f}, Test Loss: {loss_test.item():4f}')"
   ]
  },
  {
   "cell_type": "code",
   "execution_count": 35,
   "id": "94837c99",
   "metadata": {},
   "outputs": [
    {
     "data": {
      "image/png": "[encoded data removed]",
      "text/plain": [
       "<Figure size 640x480 with 1 Axes>"
      ]
     },
     "metadata": {},
     "output_type": "display_data"
    }
   ],
   "source": [
    "plt.plot(train_losses, label = 'Train loss')\n",
    "plt.plot(test_losses, label='Test loss')\n",
    "plt.legend()\n",
    "plt.show()"
   ]
  },
  {
   "cell_type": "code",
   "execution_count": 37,
   "id": "aa1b4671",
   "metadata": {},
   "outputs": [
    {
     "name": "stdout",
     "output_type": "stream",
     "text": [
      "Train acc: 0.981627, Test acc: 0.973404\n"
     ]
    }
   ],
   "source": [
    "#Get accuracy\n",
    "with torch.no_grad():\n",
    "    p_train = model(x_train)\n",
    "    p_train = (p_train.numpy() > 0)\n",
    "    train_acc = np.mean(y_train.numpy() == p_train)\n",
    "    \n",
    "    p_test = model(x_test)\n",
    "    p_test = (p_test.numpy() > 0)\n",
    "    test_acc = np.mean(y_test.numpy() == p_test)\n",
    "print(f'Train acc: {train_acc:4f}, Test acc: {test_acc:4f}')\n",
    "    "
   ]
  },
  {
   "cell_type": "code",
   "execution_count": null,
   "id": "fdec8d29",
   "metadata": {},
   "outputs": [],
   "source": []
  }
 ],
 "metadata": {
  "kernelspec": {
   "display_name": "Python 3 (ipykernel)",
   "language": "python",
   "name": "python3"
  },
  "language_info": {
   "codemirror_mode": {
    "name": "ipython",
    "version": 3
   },
   "file_extension": ".py",
   "mimetype": "text/x-python",
   "name": "python",
   "nbconvert_exporter": "python",
   "pygments_lexer": "ipython3",
   "version": "3.10.9"
  }
 },
 "nbformat": 4,
 "nbformat_minor": 5
}
