{
 "cells": [
  {
   "cell_type": "code",
   "execution_count": 1,
   "id": "6430293d-05e5-4274-83b0-c11f2e884ca8",
   "metadata": {},
   "outputs": [],
   "source": [
    "import torch\n",
    "import torch.nn as nn\n",
    "import torchvision\n",
    "import torchvision.transforms as transforms\n",
    "from torchvision.utils import save_image\n",
    "import numpy as np\n",
    "import matplotlib.pyplot as plt\n",
    "import os\n",
    "from datetime import datetime"
   ]
  },
  {
   "cell_type": "code",
   "execution_count": 2,
   "id": "69d34b24-3588-446f-946b-34a4c4ce2b2c",
   "metadata": {},
   "outputs": [],
   "source": [
    "transform = transforms.Compose([\n",
    "    transforms.ToTensor(),\n",
    "    transforms.Normalize(mean=0.5,std=0.5)])\n",
    "                        "
   ]
  },
  {
   "cell_type": "code",
   "execution_count": 3,
   "id": "7c873be0-4df8-4ff7-b826-4c5820c719cb",
   "metadata": {},
   "outputs": [],
   "source": [
    "train_dataset = torchvision.datasets.MNIST(\n",
    "    root = '.',\n",
    "    train = True,\n",
    "    transform = transform,\n",
    "    download = True\n",
    ")"
   ]
  },
  {
   "cell_type": "code",
   "execution_count": 4,
   "id": "48879074-a36f-459d-bb80-abf02997a9c3",
   "metadata": {},
   "outputs": [],
   "source": [
    "test_dataset = torchvision.datasets.MNIST(\n",
    "    root = '.',\n",
    "    train = False,\n",
    "    transform = transform,\n",
    "    download = True\n",
    ")"
   ]
  },
  {
   "cell_type": "code",
   "execution_count": 5,
   "id": "9f878ee8-41a9-4640-9e47-9c445bc5adf9",
   "metadata": {},
   "outputs": [
    {
     "data": {
      "text/plain": [
       "60000"
      ]
     },
     "execution_count": 5,
     "metadata": {},
     "output_type": "execute_result"
    }
   ],
   "source": [
    "len(train_dataset)"
   ]
  },
  {
   "cell_type": "code",
   "execution_count": 6,
   "id": "47dad395-b41c-4a85-9b31-ef222fb6a73c",
   "metadata": {},
   "outputs": [],
   "source": [
    "batch_size = 128\n",
    "data_loader = torch.utils.data.DataLoader(\n",
    "    dataset=train_dataset,\n",
    "    batch_size = batch_size,\n",
    "    shuffle = True)"
   ]
  },
  {
   "cell_type": "code",
   "execution_count": 7,
   "id": "b1357d0a-f63b-4fd3-be04-57caef848473",
   "metadata": {},
   "outputs": [],
   "source": [
    "#Discriminator \n",
    "D = nn.Sequential(\n",
    "    nn.Linear(784, 512),\n",
    "    nn.LeakyReLU(0.2),\n",
    "    nn.Linear(512, 256),\n",
    "    nn.LeakyReLU(0.2),\n",
    "    nn.Linear(256, 1),\n",
    "    #nn.Sigmoid()\n",
    ")"
   ]
  },
  {
   "cell_type": "code",
   "execution_count": 9,
   "id": "2974267a-49cb-40a1-be97-149894f59384",
   "metadata": {},
   "outputs": [],
   "source": [
    "#Generator\n",
    "latent_dim = 100\n",
    "G = nn.Sequential(\n",
    "    nn.Linear(latent_dim, 256),\n",
    "    nn.BatchNorm1d(256, momentum=0.7),\n",
    "    nn.Linear(256,512),\n",
    "    nn.LeakyReLU(0.2),\n",
    "    nn.BatchNorm1d(512, momentum=0.7),\n",
    "    nn.Linear(512, 1024),\n",
    "    nn.LeakyReLU(0.2),\n",
    "    nn.BatchNorm1d(1024, momentum=0.7),\n",
    "    nn.Linear(1024, 784),\n",
    "    nn.Tanh()\n",
    ")"
   ]
  },
  {
   "cell_type": "code",
   "execution_count": 10,
   "id": "d2c16ad0-53ac-4658-860b-84fcb7e4bcad",
   "metadata": {},
   "outputs": [],
   "source": [
    "#set device\n",
    "device = torch.device('cuda:0' if torch.cuda.is_available() else 'cpu')\n",
    "D = D.to(device)\n",
    "G = G.to(device)"
   ]
  },
  {
   "cell_type": "code",
   "execution_count": 11,
   "id": "fb3df36f-b575-4f60-93b1-64410be94a40",
   "metadata": {},
   "outputs": [],
   "source": [
    "#loss and optimizer\n",
    "criterion = nn.BCEWithLogitsLoss()\n",
    "d_optimizer = torch.optim.Adam(D.parameters(), lr=0.0002, betas = (0.5, 0.999))\n",
    "g_optimizer = torch.optim.Adam(G.parameters(), lr=0.0002, betas = (0.5, 0.999))"
   ]
  },
  {
   "cell_type": "code",
   "execution_count": 12,
   "id": "ddeb0ab4-32ad-40e5-a536-7fdb53544eb3",
   "metadata": {},
   "outputs": [],
   "source": [
    "#Scale image back to(0,1)\n",
    "def scale_image(img):\n",
    "    out = (img + 1) / 2\n",
    "    return out"
   ]
  },
  {
   "cell_type": "code",
   "execution_count": 14,
   "id": "325d93eb-014d-458a-bc88-673fb0402517",
   "metadata": {},
   "outputs": [],
   "source": [
    "#create a folder to store generated images\n",
    "if not os.path.exists('gan_images'):\n",
    "    os.makedirs('gan_images')"
   ]
  },
  {
   "cell_type": "code",
   "execution_count": 15,
   "id": "6cbd57af-b646-4463-ba8d-b088ddc490bf",
   "metadata": {},
   "outputs": [],
   "source": [
    "#Training loop\n",
    "#labels to use in the loop\n",
    "ones_ = torch.ones(batch_size, 1).to(device)\n",
    "zeros_ = torch.zeros(batch_size, 1).to(device)"
   ]
  },
  {
   "cell_type": "code",
   "execution_count": null,
   "id": "ba01d9f3-414b-4354-96c2-dc55cd8f5008",
   "metadata": {},
   "outputs": [],
   "source": [
    "#save losses\n",
    "d_losses = []\n",
    "g_losses = []\n",
    "\n",
    "for epochs in range(200):\n",
    "    for inputs, _ in data_loader:\n",
    "        #dont need targets\n",
    "        #reshape and data to cpu\n",
    "        n = inputs.size(0)\n",
    "        inputs = inputs.reshape(n, 784).to(device)\n",
    "\n",
    "        #set ones and zeros to correct size\n",
    "        ones = ones_[:n]\n",
    "        zeros = zeros_[:n]\n",
    "\n",
    "        #TRAIN DISCRIMINATOR\n",
    "        #real images\n",
    "        real_outputs = D(inputs)\n",
    "        d_loss_real = criterion(real_outputs, ones)\n",
    "        #Fake images\n",
    "        noise = torch.randn(n, latent_dim).to(device)\n",
    "        fake_image = G(noise)\n",
    "        fake_outouts = D(fake_image)\n",
    "        d_loss_fake = criterion(fake_outouts, zeros)\n",
    "        #gradient descent loop\n",
    "        d_loss = 0.5 * (d_loss_real + d_loss_fake)\n",
    "        d_optimizer.zero_grad()\n",
    "        g_optimizer.zero_grad()\n",
    "        d_loss.backward()\n",
    "        d_optimizer.step()\n",
    "\n",
    "        #TRAIN GENERATOR\n",
    "        for _ in range(2):\n",
    "            #fake image\n",
    "            noise = torch.randn(n, latent_dim).to(device)\n",
    "            fake_image = G(noise)\n",
    "            fake_outputs = D(fake_image)\n",
    "            #reverse the goals \n",
    "            g_loss = criterion(fake_outputs, ones)\n",
    "\n",
    "        #gradient descent loop\n",
    "        d_optimizer.zero_grad()\n",
    "        g_optimizer.zero_grad()\n",
    "        g_loss.backward()\n",
    "        g_optimizer.step()\n",
    "\n",
    "    #save losses \n",
    "    d_losses.append(d_loss.item())\n",
    "    g_losses.append(g_loss.item())\n",
    "    print(f'Epochs {epochs}, d_loss: {d_loss.item()}, g_loss: {g_loss.item()}')\n",
    "\n",
    "    fake_images = fake_image.reshape(-1,1,28,28)\n",
    "    save_image(scale_image(fake_image), f'gan_images/{epochs+1}.png')"
   ]
  },
  {
   "cell_type": "code",
   "execution_count": null,
   "id": "1b4195c1-ea0e-4167-bc85-8cecb0fa74d9",
   "metadata": {},
   "outputs": [],
   "source": [
    "#plot d_loss and g_loss\n",
    "plt.plot(g_losses, label='g_losses')\n",
    "plt.plot(d_losses, label='d_losses')\n",
    "plt.legend()"
   ]
  },
  {
   "cell_type": "code",
   "execution_count": null,
   "id": "9969285c-fcc1-455f-a15a-a5a6397d3a12",
   "metadata": {},
   "outputs": [],
   "source": [
    "from skimage.io import imread\n",
    "a = imread('gan_images/1.png')\n",
    "plt.imshow(a)"
   ]
  },
  {
   "cell_type": "code",
   "execution_count": null,
   "id": "ab66444e-71d8-46ec-94fb-263f8546564e",
   "metadata": {},
   "outputs": [],
   "source": [
    "a = imread('gan_images/150.png')\n",
    "plt.imshow(a)"
   ]
  },
  {
   "cell_type": "code",
   "execution_count": null,
   "id": "879d92d4-3983-4d81-8a30-6b904409013e",
   "metadata": {},
   "outputs": [],
   "source": []
  }
 ],
 "metadata": {
  "kernelspec": {
   "display_name": "Python 3 (ipykernel)",
   "language": "python",
   "name": "python3"
  },
  "language_info": {
   "codemirror_mode": {
    "name": "ipython",
    "version": 3
   },
   "file_extension": ".py",
   "mimetype": "text/x-python",
   "name": "python",
   "nbconvert_exporter": "python",
   "pygments_lexer": "ipython3",
   "version": "3.10.9"
  }
 },
 "nbformat": 4,
 "nbformat_minor": 5
}
